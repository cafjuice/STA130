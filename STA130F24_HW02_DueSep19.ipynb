{
 "cells": [
  {
   "cell_type": "markdown",
   "id": "14b74968",
   "metadata": {},
   "source": [
    "## STA130 Homework 02\n",
    "\n",
    "Please see the course [wiki-textbook](https://github.com/pointOfive/stat130chat130/wiki) for the list of topics covered in this homework assignment, and a list of topics that might appear during ChatBot conversations which are \"out of scope\" for the purposes of this homework assignment (and hence can be safely ignored if encountered)"
   ]
  },
  {
   "cell_type": "markdown",
   "id": "f014006ff8809433",
   "metadata": {},
   "source": [
    "<details class=\"details-example\"><summary style=\"color:blue\"><u>Introduction</u></summary>\n",
    "\n",
    "### Introduction\n",
    "    \n",
    "A reasonable characterization of STA130 Homework is that it simply defines a weekly reading comprehension assignment. \n",
    "Indeed, STA130 Homework essentially boils down to completing various understanding confirmation exercises oriented around coding and writing tasks.\n",
    "However, rather than reading a textbook, STA130 Homework is based on ChatBots so students can interactively follow up to clarify questions or confusion that they may still have regarding learning objective assignments.\n",
    "\n",
    "> Communication is a fundamental skill underlying statistics and data science, so STA130 Homework based on ChatBots helps practice effective two-way communication as part of a \"realistic\" dialogue activity supporting underlying conceptual understanding building. \n",
    "\n",
    "It will likely become increasingly tempting to rely on ChatBots to \"do the work for you\". But when you find yourself frustrated with a ChatBots inability to give you the results you're looking for, this is a \"hint\" that you've become overreliant on the ChatBots. Your objective should not be to have ChatBots \"do the work for you\", but to use ChatBots to help you build your understanding so you can efficiently leverage ChatBots (and other resources) to help you work more efficiently.<br><br>\n",
    "\n",
    "</details>\n",
    "\n",
    "<details class=\"details-example\"><summary style=\"color:blue\"><u>Instructions</u></summary>\n",
    "\n",
    "### Instructions\n",
    "    \n",
    "1. Code and write all your answers (for both the \"Prelecture\" and \"Postlecture\" HW) in a python notebook (in code and markdown cells) \n",
    "    \n",
    "> It is *suggested but not mandatory* that you complete the \"Prelecture\" HW prior to the Monday LEC since (a) all HW is due at the same time; but, (b) completing some of the HW early will mean better readiness for LEC and less of a \"procrastentation cruch\" towards the end of the week...\n",
    "    \n",
    "2. Paste summaries of your ChatBot sessions (including link(s) to chat log histories if you're using ChatGPT) within your notebook\n",
    "    \n",
    "> Create summaries of your ChatBot sessions by using concluding prompts such as \"Please provide a summary of our exchanges here so I can submit them as a record of our interactions as part of a homework assignment\" or, \"Please provide me with the final working verson of the code that we created together\"\n",
    "    \n",
    "3. Save your python jupyter notebook in your own account and \"repo\" on [github.com](github.com) and submit a link to that notebook though Quercus for assignment marking<br><br>\n",
    "\n",
    "</details>\n",
    "\n",
    "<details class=\"details-example\"><summary style=\"color:blue\"><u>Prompt Engineering?</u></summary>\n",
    "    \n",
    "### Prompt Engineering? \n",
    "    \n",
    "The questions (as copy-pasted prompts) are designed to initialize appropriate ChatBot conversations which can be explored in the manner of an interactive and dynamic textbook; but, it is nonetheless **strongly recommendated** that your rephrase the questions in a way that you find natural to ensure a clear understanding of the question. Given sensible prompts the represent a question well, the two primary challenges observed to arise from ChatBots are \n",
    "\n",
    "1. conversations going beyond the intended scope of the material addressed by the question; and, \n",
    "2. unrecoverable confusion as a result of sequential layers logial inquiry that cannot be resolved. \n",
    "\n",
    "In the case of the former (1), adding constraints specifying the limits of considerations of interest tends to be helpful; whereas, the latter (2) is often the result of initial prompting that leads to poor developments in navigating the material, which are likely just best resolve by a \"hard reset\" with a new initial approach to prompting.  Indeed, this is exactly the behavior [hardcoded into copilot](https://answers.microsoft.com/en-us/bing/forum/all/is-this-even-normal/0b6dcab3-7d6c-4373-8efe-d74158af3c00)...\n",
    "\n",
    "</details>"
   ]
  },
  {
   "cell_type": "markdown",
   "id": "161fd459",
   "metadata": {},
   "source": [
    "\n",
    "### Marking Rubric (which may award partial credit) \n",
    "\n",
    "- [0.1 points]: All relevant ChatBot summaries [including link(s) to chat log histories if you're using ChatGPT] are reported within the notebook\n",
    "- [0.3 points]: Assignment completion confirmed by working \"final\" code and ChatBot summaries for \"3\"\n",
    "- [0.3 points]: Written submission evaluation and enagement confirmation with ChatBot summaries for \"6\"\n",
    "- [0.3 points]: Evaluation of engagement and evaluation of written communication in \"7\"\n",
    "        "
   ]
  },
  {
   "cell_type": "markdown",
   "id": "f7ff3f55",
   "metadata": {},
   "source": [
    "### \"Pre-lecture\" HW [*completion prior to next LEC is suggested but not mandatory*]"
   ]
  },
  {
   "cell_type": "markdown",
   "id": "fda8568b",
   "metadata": {},
   "source": [
    "#### 1. Begin (or restart) part \"3(a)\" of the **TUT Demo** and interact with a ChatBot to make sure you understand how each part the Monte Hall problem code above works<br>\n",
    "\n",
    "<details class=\"details-example\"><summary style=\"color:blue\"><u>Further Guidance</u></summary>\n",
    "    \n",
    "> _ChatBots typically explain code fairly effectively, so a ChatBot will probably be very helpful if you share the full Monte Hall problem code; but, you can always introduce more specific and targetted follow-up prompts that help with focus, re-redirection, and response format regarding the ChatBot responses as needed._ \n",
    ">\n",
    "> _ChatBots won't always re-introduce and re-explain the Monte Hall problem itself, so if you need it to do so you may need to specifically request this as part of your prompt or follow up interactions._\n",
    "\n",
    "</details>\n"
   ]
  },
  {
   "cell_type": "markdown",
   "id": "11581881",
   "metadata": {},
   "source": [
    "#### 2. Extend your ChatBot sessions to now address part \"3(b)\" of the **TUT Demo** and interact with your ChatBot to see if it can suggest a simpler, more streamlined way to code up this *for* loop simulation so the process is more clear and easier to understand; then, describe any preferences you have in terms of readibility or explainability  between the original code and the code improvements suggested by the ChatBot<br>\n",
    "\n",
    "<details class=\"details-example\"><summary style=\"color:blue\"><u>Further Guidance</u></summary>\n",
    "    \n",
    "> _The links in the TUT Demo show that there can be variation in the quality of the code improvements suggested by ChatBots; however, it's most likely that a ChatBot is going to be able to greatly reduce the number of steps/lines of code and hence complexity of understanding the problem. ChatBots can provide a good amount of explanation and inline clarifying code comments and provide more simpler more intuitive code that can transform something that looks a bit scary at first to something that's easy to follow and make sense of. Of course, in doing so, a ChatBot may introduce functions that you've technically not learned or seen before; but, the amount of simplification and clarifying comments is probably going to more than compensate for this; and, you'll have seen a learned a little bit more about what's possible through this process, which is the ideal experience we're hoping you'll see here._ \n",
    "    \n",
    "</details>\n",
    "        "
   ]
  },
  {
   "cell_type": "markdown",
   "id": "f3fdebd8",
   "metadata": {},
   "source": [
    "#### 3. Submit your preferred version of the Monty Hall problem that is verified to be running and working with a final printed output of the code; then, add code comments explaining the purpose of each line of the code<br>\n",
    "\n",
    "<details class=\"details-example\"><summary style=\"color:blue\"><u>Further Guidance</u></summary>\n",
    "    \n",
    "> _Your ChatBot will likely do much of this for you, but verify for yourself that you understand each comment and reword comments wherever you think it would be better to explain it differently._\n",
    ">\n",
    "> _Remember to ask for summaries of your current session and paste these into your homework notebook  (including link(s) to chat log histories if you're using ChatGPT)_\n",
    "\n",
    "</details>\n",
    " "
   ]
  },
  {
   "cell_type": "markdown",
   "id": "8ba3ff01",
   "metadata": {},
   "source": [
    "#### 4. Watch the embedded video tutorial on Markov chains in the next Jupyter cell below to understand their application and relevance for ChatBots; then, after watching the video, start a new ChatBot session by prompting that you have code that creates a \"Markovian ChatBot\"; show it the first version of the \"Markovian ChatBot code\" below; and interact with the ChatBot session to make sure you understand how the original first version of the \"Markovian ChatBot code\" works<br>\n",
    "\n",
    "<details class=\"details-example\"><summary style=\"color:blue\"><u>Further Guidance</u></summary>\n",
    "\n",
    "> _If the ChatBot prompts you as to how you will \"train\" your own \"Markovian ChatBot\" you can reply that you'll just use a series of stories with a lot of different characters_\n",
    "> \n",
    "> _Ask for summaries of this second ChatBot session and paste these into your homework notebook (including link(s) to chat log histories if you're using ChatGPT)_\n",
    "    \n",
    "</details>\n",
    "    "
   ]
  },
  {
   "cell_type": "code",
   "execution_count": 18,
   "id": "a52754504a625b36",
   "metadata": {},
   "outputs": [
    {
     "data": {
      "image/jpeg": "[encoded data removed]",
      "text/html": [
       "\n",
       "        <iframe\n",
       "            width=\"550\"\n",
       "            height=\"300\"\n",
       "            src=\"https://www.youtube.com/embed/56mGTszb_iM\"\n",
       "            frameborder=\"0\"\n",
       "            allowfullscreen\n",
       "            \n",
       "        ></iframe>\n",
       "        "
      ],
      "text/plain": [
       "<IPython.lib.display.YouTubeVideo at 0x7f9aa9d55450>"
      ]
     },
     "execution_count": 18,
     "metadata": {},
     "output_type": "execute_result"
    }
   ],
   "source": [
    "# Markov Chains and Text Generation\n",
    "from IPython.display import YouTubeVideo\n",
    "YouTubeVideo('56mGTszb_iM', width = 550)"
   ]
  },
  {
   "cell_type": "markdown",
   "id": "7a17e608",
   "metadata": {},
   "source": [
    "<details class=\"details-example\"><summary style=\"color:blue\"><u>Continue now...?</u></summary>\n",
    "\n",
    "### Pre-lecture VS Post-lecture HW\n",
    "\n",
    "Feel free to work on the \"Post-lecture\" HW below if you're making good progress and want to continue: for **HW 02** continuing could be reasonable because questions \"5-7\" below directly follow up and extend \"Pre-lecture\" HW question \"4\"\n",
    "\n",
    "*The benefits of continue would are that (a) it might be fun to try to tackle the challenge of working through some problems without additional preparation or guidance; and (b) this is a very valable skill to be comfortable with; and (c) it will let you build experience interacting with ChatBots (and beginning to understand their strengths and limitations in this regard)... it's good to have sense of when using a ChatBot is the best way to figure something out, or if another approach (such as course provided resources or a plain old websearch for the right resourse) would be more effective*\n",
    "    \n",
    "</details>    "
   ]
  },
  {
   "cell_type": "markdown",
   "id": "d6ae0a64",
   "metadata": {},
   "source": [
    "### \"Post-lecture\" HW [*submission along with \"Pre-lecture\" HW is due prior to next TUT*]"
   ]
  },
  {
   "cell_type": "markdown",
   "id": "a3979c94",
   "metadata": {},
   "source": [
    "#### 5. Recreate (or resume) the previous ChatBot session from question \"4\" above, and now  prompt the ChatBot session that you have a couple extensions of the code to show it, and then show it each of the extentions of the \"Markovian ChatBot code\" below in turn\n",
    "\n",
    "\n",
    "\n",
    "1. Without just supplying your ChatBot session with the answers, see if the ChatBot can figure out what the extensions in the code do; namely, making character specific Markov chains, and using bigrams (rather than just the previous word alone) dependency... prompt your ChatBot session with some hints if it's not seeming to \"get it\"<br><br>\n",
    "    \n",
    "2. Interact with your ChatBot session to have it explain details of the code wherever you need help understanding what the code is doing and how it works<br><br>\n",
    "    \n",
    "3. Start yet another new ChatBot session and first show the ChatBot the original \"Markovian ChatBot code\" below, and then tell ChatBot that you have an extension but this time just directly provide it the more complicated final extension without ever providing the intermediate extension code to the ChatBot session and see if it's still able to understand everything extension does; namely, making character specific Markov chains, and using bigrams (rather than just the previous word alone) dependency... prompt the ChatBot with some hints if it's not seeming to understand what you're getting at...<br><br>\n",
    "    \n",
    "<details class=\"details-example\"><summary style=\"color:blue\"><u>Further Guidance</u></summary>\n",
    "\n",
    "> **ALERT: Time Warning**. Regarding the comments below (which will likely be relevant and useful for you), you might find the potential learning experience that this provides to be a quite the rabbit total rabbit hole and time sink. You might end up finding out that you spent way more time than I should on learning the code!! So be mindful of your time management as there is much to do for many classes!\n",
    ">    \n",
    "> _As you may or may not have already experienced in the previous problem, a ChatBot applied to this problem is likely to start explaining a bit more knowledge about Python than you need to know (as a student just trying to learn stats+DS); however, you'll probably feel like this \"out of scope\" context information is helpful to know (or at least be aware of) and easy to understand and learn if you use some addtional prompts to dig deeper into them. A ChatBot will be quite good at explaining and helping understand smaller chunks of code; however, if given too much information at once it can gloss over some information._\n",
    ">   \n",
    "> _That said, some topics here are potentially quite and advanced and too tricky! You might be able to ask the ChatBot to simplify its explanations and that might help a bit. But on the other hand, some topics, such as, \"how does `nested_dict = lambda: defaultdict(nested_dict)` work?\" might just simply be too advanced to really admit a simpler explanation via a ChatBot. You'll have to let these sorts of things go, if you come across explanations that just aren't improving or helping at at. In the case of `defaultdict(nested_dict)` specifically, the details here are well beyond the scope of STA130 and can be very safely ignored for now. The code will have reviewed and \"walked thorugh\" in LEC, but the perspectives espoused there will be the extent of the formal commentary and information regarding the coding topics we encounter in the Markov ChatBots code here._\n",
    ">     \n",
    "> _Unlike with the Monte Hall problem, we will not inquire with the ChatBot to see if it can suggest any streamlining, readability, or usability improvements to the alternative versions of the \"Markovian ChatBot code\" we're examining_\n",
    ">     \n",
    "> - _because doing so seems to result in the attempted creation of dubiously functional modular code with a focus on reusability (which is likely a result of ChatBot design being primarily a \"computer science\" topic), so ChatBot reponses here tend to orient around programming and system design principles (despite \"Markovian\" very much being a \"statistics\" topic)_\n",
    ">     \n",
    "> _Programming and system design principles are beyond the scope of STA130; but, they are critical for modern data science careers... if you are interested in pursuing a data science career, it is imperitive that you complete courses like CSC263, CSC373, and perhaps an additional \"systems design\" course_\n",
    "> \n",
    "> ---\n",
    "> \n",
    "> _Don't forget to ask for summaries of all your different ChatBot sessions and organize and paste these into your homework notebook (including link(s) to chat log histories if you're using ChatBot)_\n",
    "    \n",
    "</details>\n",
    "     "
   ]
  },
  {
   "cell_type": "markdown",
   "id": "116f0a96",
   "metadata": {},
   "source": [
    "#### 6. Report on your experience interacting with ChatBots to understand the Monte Hall problem and \"Markovian ChatBot\" code\n",
    "\n",
    "1. Discuss how quickly the ChatBot was able to be helpful for each of the above questions, and if so, how?<br><br>\n",
    "    \n",
    "2. Discuss whether or not interacting with ChatBot to try to figure things out was frustrating or unhelpful, and if so, how?<br><br>\n",
    "    \n",
    "3. Based on your experiences to date (e.g., including using ChatBots to troubleshoot coding errors in the previous homework), provide an overall assessment evaluating the usefulness of ChatBots as tools to help you understand code<br>"
   ]
  },
  {
   "cell_type": "markdown",
   "id": "4642d6c2",
   "metadata": {},
   "source": [
    "#### 7. Reflect on your experience interacting with ChatBot and describe how your perception of AI-driven assistance tools in the context of learning coding, statistics, and data science has been evolving (or not) since joining the course<br><br>\n",
    "\n",
    "<details class=\"details-example\"><summary style=\"color:blue\"><u>Further Guidance</u></summary>\n",
    "    \n",
    "> _Question \"7\" and the next question \"8\" are somewhat related to the first bullet point in the suggested interactions of the \"Afterword\" to the Homework from last week... consider reviewing that if you'd like a little extra orienting around what these questions are trying to have you explore_\n",
    "   \n",
    "</details>"
   ]
  },
  {
   "cell_type": "markdown",
   "id": "500f440e",
   "metadata": {},
   "source": [
    "#### 8. ChatBots consume text data available on the web or platforms, and thus represents a new way to \"search consensensus\" that condenses and summarizes mainstream human thought<br><br>\n",
    "\n",
    "1. Start a new ChatBot session and discuss the relevance of learning and adaptability, communication, coding, and statistics and data analysis as skills in the modern world, especially with respect to career opportunities (particularly in the context of the data science industry)<br><br>\n",
    "    \n",
    "2. See if ChatBot thinks you could be a statistician or data scientist without coding or doing data analysis, and then transition your ChatBot conversation into a career exploration discussion, using the ChatBot to identify the skills that might be the most valuable for a career that you're interested<br><br>\n",
    "    \n",
    "3. Ask for a summary of this ChatBot session and paste it into your homework notebook (including link(s) to chat log histories if you're using ChatBot)<br><br>\n",
    "    \n",
    "4. Paraphrase the assessments and conclusions of your conversation in the form of a reflection on your current thoughts regarding your potential future career(s) and how you can go about building the skills you need to pursue it<br><br>\n",
    "\n",
    "5. Give your thoughts regarding the helpfulness or limitations of your conversation with a ChatBot, and describe the next steps you would take to pursue this conversation further if you felt the information the ChatBot provides was somewhat high level and general, and perhaps lacked the depth and detailed knowledge of a dedicated subject matter expert who had really take the time to understand the ins and outs of the industry and career path in question.\n",
    "<br><br>\n",
    "\n",
    "<details class=\"details-example\"><summary style=\"color:blue\"><u>Further Guidance</u></summary>\n",
    "\n",
    "> _While question 8 is not a part of the rubric, it is nonetheless a very good exercise that will likely be valuable for you if you engage it them sincerely_\n",
    "    \n",
    "</details>\n"
   ]
  },
  {
   "cell_type": "markdown",
   "id": "b489452e",
   "metadata": {},
   "source": [
    "#### 9. Have you reviewed the course [wiki-textbook](https://github.com/pointOfive/stat130chat130/wiki) and interacted with a ChatBot (or, if that wasn't sufficient, real people in the course piazza discussion board or TA office hours) to help you understand all the material in the tutorial and lecture that you didn't quite follow when you first saw it?<br><br>\n",
    "  \n",
    "<details class=\"details-example\"><summary style=\"color:blue\"><u>Further Guidance</u></summary>\n",
    "    \n",
    "> _Just answering \"Yes\" or \"No\" or \"Somewhat\" or \"Mostly\" or whatever here is fine as this question isn't a part of the rubric; but, the midterm and final exams may ask questions that are based on the tutorial and lecture materials; and, your own skills will be limited by your familiarity with these materials (which will determine your ability to actually do actual things effectively with these skills... like the course project...)_\n",
    "    \n",
    "</details>"
   ]
  },
  {
   "cell_type": "code",
   "execution_count": null,
   "id": "16f95257fb4fda6c",
   "metadata": {},
   "outputs": [],
   "source": [
    "# Markovian Chatbot\n",
    "\n",
    "# from collections import defaultdict\n",
    "word_used = dict() # defaultdict(int)\n",
    "next_word = dict() # defaultdict(lambda: defaultdict(int))\n",
    "for i,word in enumerate(words[:-1]):\n",
    "\n",
    "    if word in word_used:\n",
    "        word_used[word] += 1\n",
    "    else:\n",
    "        word_used[word] = 1\n",
    "        next_word[word] = {}\n",
    "\n",
    "    if words[i+1] in next_word[word]:\n",
    "        next_word[word][words[i+1]] += 1\n",
    "    else:\n",
    "        next_word[word][words[i+1]] = 1"
   ]
  },
  {
   "cell_type": "code",
   "execution_count": null,
   "id": "bd0e5d2163411e8e",
   "metadata": {},
   "outputs": [],
   "source": [
    "# Markovian Chatbot Extension #1\n",
    "\n",
    "word_used2 = defaultdict(int)\n",
    "next_word2 = defaultdict(lambda: defaultdict(int))\n",
    "for i,word in enumerate(words[:-2]):\n",
    "    word_used2[word+' '+words[i+1]] += 1\n",
    "    next_word2[word+' '+words[i+1]][words[i+2]] += 1 "
   ]
  },
  {
   "cell_type": "code",
   "execution_count": null,
   "id": "33fe616edecddb60",
   "metadata": {},
   "outputs": [],
   "source": [
    "# Markovian Chatbot Extension #2\n",
    "\n",
    "from collections import Counter, defaultdict\n",
    "# `avatar` is a dataset, and `character` is one of it's columns\n",
    "characters = Counter(\"\\n\"+ avatar.character.str.upper().str.replace(' ','.')+\":\")\n",
    "# this code changes the type of the `character` column to `str`; then,\n",
    "# makes the text uppercase, and replaces spaces with '.'\n",
    "\n",
    "nested_dict = lambda: defaultdict(nested_dict)\n",
    "word_used2C = nested_dict()\n",
    "next_word2C = nested_dict()\n",
    "\n",
    "for i,word in enumerate(words[:-2]):\n",
    "    if word in characters:\n",
    "        character = word\n",
    "        \n",
    "    if character not in word_used2C:\n",
    "        word_used2C[character] = dict()\n",
    "    if word+' '+words[i+1] not in word_used2C[character]:\n",
    "        word_used2C[character][word+' '+words[i+1]] = 0\n",
    "    word_used2C[character][word+' '+words[i+1]] += 1\n",
    "    \n",
    "    if character not in next_word2C:\n",
    "        next_word2C[character] = dict()\n",
    "    if word+' '+words[i+1] not in next_word2C[character]:\n",
    "        next_word2C[character][word+' '+words[i+1]] = dict()\n",
    "    if words[i+2] not in next_word2C[character][word+' '+words[i+1]]:\n",
    "        next_word2C[character][word+' '+words[i+1]][words[i+2]] = 0\n",
    "    next_word2C[character][word+' '+words[i+1]][words[i+2]] += 1"
   ]
  },
  {
   "cell_type": "markdown",
   "id": "1ebfa9b9",
   "metadata": {},
   "source": [
    "## Recommended Additional Useful Activities [Optional]\n",
    "\n",
    "The \"Ethical Profesionalism Considerations\" and \"Current Course Project Capability Level\" sections below **are not a part of the required homework assignment**; rather, they are regular weekly guides covering (a) relevant considerations regarding professional and ethical conduct, and (b) the analysis steps for the STA130 course project that are feasible at the current stage of the course <br><br>\n",
    "\n",
    "\n",
    "<details class=\"details-example\"><summary style=\"color:blue\"><u>Ethical Professionalism Considerations</u></summary>\n",
    "\n",
    "### Ethical Professionalism Considerations\n",
    "\n",
    "    \n",
    "> 1. If you've not heard of the \"reproducibility crisis\" in science, have a ChatBot explain it to you\n",
    "> 2. If you've not heard of the \"open source software\" (versus proprietary software), have a ChatBot explain it to you\n",
    "> 3. \"Reproducibility\" can also be considered at the level of a given data analysis project: can others replicate the results of code or analysis that you've done?\n",
    ">    1. Discuss with a ChatBot how jupyter notebooks and github can be used facilitate transparency and reproducibility in data analysis\n",
    "> 4. Discuss with a ChatBot what the distinction is between replicability of scientific experiments, versus the replicability of a specific data analysis project, and what your responsibility as an analyst should be with respect to both\n",
    "> 5. Do you think proprietary (non \"open source software\") software, such as Microsoft Word, Outlook, and Copilot tends to result in high quality products?  \n",
    ">     1. Do you think software product monopolies (such as the UofT dependence on Microsoft products) makes the world a better place?\n",
    "</details>    \n",
    "\n",
    "<details class=\"details-example\"><summary style=\"color:blue\"><u>Current Course Project Capability Level</u></summary>\n",
    "\n",
    "### Current Course Project Capability Level\n",
    "   \n",
    "**Remember to abide by the [data use agreement](https://static1.squarespace.com/static/60283c2e174c122f8ebe0f39/t/6239c284d610f76fed5a2e69/1647952517436/Data+Use+Agreement+for+the+Canadian+Social+Connection+Survey.pdf) at all times.**\n",
    "\n",
    "Information about the course project is available on the course github repo [here](https://github.com/pointOfive/stat130chat130/tree/main/CP), including a draft [course project specfication](https://github.com/pointOfive/stat130chat130/blob/main/CP/STA130F23_course_project_specification.ipynb) (subject to change). \n",
    "- The Week 01 HW introduced [STA130F24_CourseProject.ipynb](https://github.com/pointOfive/stat130chat130/blob/main/CP/STA130F24_CourseProject.ipynb), and the [available variables](https://drive.google.com/file/d/1ISVymGn-WR1lcRs4psIym2N3or5onNBi/view). \n",
    "- Please do not download the [data](https://drive.google.com/file/d/1mbUQlMTrNYA7Ly5eImVRBn16Ehy9Lggo/view) accessible at the bottom of the [CSCS](https://casch.org/cscs) webpage (or the course github repo) multiple times.\n",
    "\n",
    "> At this point in the course you should be able to create a `for` loop to iterate through and provide **simple summaries** of some of the interesting columns in the course project data\n",
    ">\n",
    "> 1. Create two versions of the code, one for numeric and the other for categorical data,  which provide a printout format that displays relavent summaries and the missing data counts for a given set of (either numerical or categorical) columns being examined\n",
    ">\n",
    "> 2. Combine the two separate `for` loops into a single `for` loop using an `if`/`else` **conditional logic structure** that determines the correct printout format based on the data type of the column under consideration  \n",
    ">     1. *Being able to transform existing code so it's \"resuable\" for different purposes is one version of the programming design principle of \"polymorphism\" (which means \"many forms\" or \"many uses\") [as in the first task above]*\n",
    ">     2. *A better version of the programming design principle of \"polymorphism\" is when the same code can handle different use cases [as in the second tast above]*\n",
    ">     3. *Being able run your code with different subsets of columns as interest in different variables changes is a final form of the programming design principle of \"polymorphism\" that's demonstrated through this exercise*   \n",
    "    \n",
    "</details>        "
   ]
  },
  {
   "cell_type": "markdown",
   "id": "9f2599e3",
   "metadata": {},
   "source": [
    "## Question 1:"
   ]
  },
  {
   "cell_type": "code",
   "execution_count": 1,
   "id": "c8d58702",
   "metadata": {
    "scrolled": true
   },
   "outputs": [
    {
     "data": {
      "text/plain": [
       "0.66594"
      ]
     },
     "execution_count": 1,
     "metadata": {},
     "output_type": "execute_result"
    }
   ],
   "source": [
    "import numpy as np\n",
    "all_door_options = (1,2,3) # tuple with values 1, 2, 3 representing doors \n",
    "my_door_choice = 1  # out of tuple (1, 2, 3)\n",
    "i_won = 0 # how many times the computer has won the Monte Hall problem\n",
    "reps = 100000 # how many times this algorithm will loop\n",
    "\n",
    "for i in range(reps): # i = loop variable \n",
    "    \n",
    "    secret_winning_door = np.random.choice(all_door_options) # set the secret_winning_door variable as a random door out of tuple all_door_options (so it could be 1, 2, or 3)\n",
    "    all_door_options_list = list(all_door_options) # we convert tuple into list so that we can fiddle with values\n",
    "   \n",
    "    #this next bit is about showing a \"goat\" losing door:\n",
    "    \n",
    "    # take out the secret_winning_door from all_door_options so that it isn't displayed as a losing door\n",
    "    all_door_options_list.remove(secret_winning_door)\n",
    "    try:\n",
    "        all_door_options_list.remove(my_door_choice)\n",
    "        # if my_door_choice can be removed from the losing list (list without winning door), then we are left with the other losing door that Monty then \"opens\"\n",
    "        # if my_door_choice CANNOT be removed because it was already removed with all_door_options_list.remove, then we go to exception, skip the try with pass\n",
    "    except:\n",
    "        pass\n",
    "    goat_door_reveal = np.random.choice(all_door_options_list)  # selects a random value door to be the losing goat door\n",
    "    all_door_options_list.remove(goat_door_reveal) # removes the goat_door_reveal door from all_door_options_list; computer can no longer choose this door\n",
    "    \n",
    "    # because we know that every option in all_door_options_list (whether that be one or two values) is a losing goat door\n",
    "    # AND because we have already removed the winning door\n",
    "    # removing goat_door_reveal means that either we have nothing in the list or we have one losing door in the list\n",
    "\n",
    "    if secret_winning_door != my_door_choice:\n",
    "        all_door_options_list.append(secret_winning_door)\n",
    "\n",
    "    # we add BACK the secret_winning_door into the list\n",
    "    # if you remember from earlier, if we originally picked a losing door, there are no more values in the list\n",
    "    # so if the original door was losing then now if we switch we only get Ws\n",
    "    # whereas this code doesn't even run when secret_winning_door = my_door_choice \n",
    "\n",
    "    my_door_choice = all_door_options_list[0]\n",
    "\n",
    "    if my_door_choice == secret_winning_door:\n",
    "        i_won += 1  # if the door that was picked second is the winning door, a win is added to the i_won counter\n",
    "\n",
    "i_won/reps  # calculates probability of winning with the swap strategy"
   ]
  },
  {
   "cell_type": "markdown",
   "id": "16ee08bc",
   "metadata": {},
   "source": [
    "## Question 2:"
   ]
  },
  {
   "cell_type": "markdown",
   "id": "f78c157a",
   "metadata": {},
   "source": [
    "Overall, I found the ChatGPT code a lot more readable, as it was easier to understand which line of code referred to which action being taken by either Monty or the player (and, consequently, what implications that had on the overall Monty Hall problem); however, seeing as I had not previously learned what a list comprehension was, I thought that ChatGPT's original explanations for its code was insufficient and I had to ask it to clarify its code more than I did for Scott Schwartz's."
   ]
  },
  {
   "cell_type": "markdown",
   "id": "992aa033",
   "metadata": {},
   "source": [
    "## Question 3:"
   ]
  },
  {
   "cell_type": "code",
   "execution_count": 2,
   "id": "d1fe5063",
   "metadata": {},
   "outputs": [
    {
     "data": {
      "text/plain": [
       "0.66859"
      ]
     },
     "execution_count": 2,
     "metadata": {},
     "output_type": "execute_result"
    }
   ],
   "source": [
    "import numpy as np\n",
    "\n",
    "all_door_options = [1, 2, 3]  # list with elements 1, 2, 3 representing doors\n",
    "switch_wins = 0  # how many times the computer has won the Monte Hall problem\n",
    "reps = 100000  # how many times this algorithm will loop\n",
    "\n",
    "for _ in range(reps):  # _ = common Python syntax for when the loop variable isn't used in the loop itself\n",
    "\n",
    "    winning_door = np.random.choice(all_door_options)  # random assignment for the \"winning door\"\n",
    "    player_choice = np.random.choice(all_door_options)  # random assignment for the player's original picked door\n",
    "\n",
    "    # Monty picking a losing goat door:\n",
    "    remaining_doors = [door for door in all_door_options if door != player_choice and door != winning_door]\n",
    "    \n",
    "    # remaining_doors is an assignment for a list comprehension where every element of the list must satisfy what's inside the brackets\n",
    "    # meaning that for every element \"door\", it will iterate every element in list all_door_elements and check them against the logical conditionals\n",
    "    # in this case, only elements door that are not player_choice or (inclusive) are not winning_door can be elements of remaining_doors\n",
    "    # if player_choice and winning_door are the same value, then there are 2 elements in remaining_door\n",
    "    # otherwise only one element is in remaining_door\n",
    "    \n",
    "    monty_reveals = np.random.choice(remaining_doors) # monty_reveals is assigned a random value in remaining_doors\n",
    "\n",
    "    # Switch the player's choice to the other remaining door\n",
    "    switched_choice = [door for door in all_door_options if door != player_choice and door != monty_reveals][0]\n",
    "    \n",
    "    # switched_choice is an assignment for another list comprehension\n",
    "    # this time, only elements door that are not player_choice or (inclusive) monty_reveals can be elements of switched_choice\n",
    "    # since there is only one possible value that has not been assigned player_choice or monty_reveals yet, returning [0] automatically returns that one value\n",
    "\n",
    "    # Check if switching leads to a win\n",
    "    if switched_choice == winning_door:\n",
    "        switch_wins += 1  # if the switched door was the winning door, then a win is added to the switch_wins counter\n",
    "        \n",
    "switch_wins/reps  # calculates probability of switch_wins across all rep\n",
    "# I also ended up deleting the \"print\" instructions and using a simpler division statement, since print ...hurts my head"
   ]
  },
  {
   "cell_type": "markdown",
   "id": "999adfe2",
   "metadata": {},
   "source": [
    "ChatGPT summary:\n",
    "\n",
    "\"In this session, we focused on the **Monty Hall problem** and its simulation in Python. Here's a summary of the key points:\n",
    "\n",
    "1. **Understanding the Monty Hall Problem**:\n",
    "   - The Monty Hall problem is a probability puzzle where switching doors after a reveal gives a 2/3 chance of winning.\n",
    "   \n",
    "2. **Breaking Down Your Original Code**:\n",
    "   - We analyzed your initial simulation step by step, explaining how doors are selected, Monty reveals a \"goat\" door, and how the player switches doors to maximize winning chances.\n",
    "   - Key lines such as `my_door_choice = all_door_options_list[0]` were explained as implementing the switch strategy.\n",
    "   \n",
    "3. **Simplifying the Simulation**:\n",
    "   - I suggested a more streamlined version of the code that uses list comprehensions and eliminates unnecessary steps, making the logic clearer.\n",
    "   - The simplified version uses direct list filtering and more compact handling of the switch decision.\n",
    "\n",
    "4. **Explaining Specific Code Parts**:\n",
    "   - The use of `_` in `for _ in range(reps)` was explained as a convention for ignoring loop variables.\n",
    "   - We discussed list comprehensions like `[door for door in all_door_options if door != player_choice and door != winning_door]` to filter out specific doors.\n",
    "   - The line `switched_choice = [door for door in all_door_options if door != player_choice and door != monty_reveals][0]` was broken down to show how the switch choice is made based on remaining doors.\n",
    "\n",
    "In summary, we explored how to efficiently simulate the Monty Hall problem and optimized your approach while clarifying key Python concepts.\"\n",
    "\n",
    "Session link: https://chatgpt.com/share/66e4b641-9c44-8012-bd3e-ac974842bbf8"
   ]
  },
  {
   "cell_type": "markdown",
   "id": "efe0a591",
   "metadata": {},
   "source": [
    "## Question 4:"
   ]
  },
  {
   "cell_type": "code",
   "execution_count": 3,
   "id": "c9fe5505",
   "metadata": {},
   "outputs": [
    {
     "ename": "NameError",
     "evalue": "name 'word' is not defined",
     "output_type": "error",
     "traceback": [
      "\u001b[0;31m---------------------------------------------------------------------------\u001b[0m",
      "\u001b[0;31mNameError\u001b[0m                                 Traceback (most recent call last)",
      "Cell \u001b[0;32mIn[3], line 16\u001b[0m\n\u001b[1;32m     12\u001b[0m next_word \u001b[38;5;241m=\u001b[39m defaultdict(\u001b[38;5;28;01mlambda\u001b[39;00m: defaultdict(\u001b[38;5;28mint\u001b[39m))  \u001b[38;5;66;03m# will return defaultdict(int) if word doesn't exist in next_word[word]\u001b[39;00m\n\u001b[1;32m     13\u001b[0m \u001b[38;5;66;03m# next_word is another dictionary that tracks how many times a word appears following another word in a text: word_next[word]\u001b[39;00m\n\u001b[1;32m     14\u001b[0m \u001b[38;5;66;03m# (key: word, value: frequency)\u001b[39;00m\n\u001b[0;32m---> 16\u001b[0m \u001b[38;5;28;01mfor\u001b[39;00m i,word \u001b[38;5;129;01min\u001b[39;00m \u001b[38;5;28menumerate\u001b[39m(\u001b[43mword\u001b[49m[:\u001b[38;5;241m-\u001b[39m\u001b[38;5;241m1\u001b[39m]):\n\u001b[1;32m     17\u001b[0m     \u001b[38;5;66;03m# for loop index i (represents position of word in words list), it will iterate over all words in list 'words' except for the last word\u001b[39;00m\n\u001b[1;32m     18\u001b[0m     \u001b[38;5;66;03m# word represents the word value at index i\u001b[39;00m\n\u001b[1;32m     19\u001b[0m     \u001b[38;5;66;03m# the current word is index i, words[i+1] is the next word (giving induction...)\u001b[39;00m\n\u001b[1;32m     21\u001b[0m     \u001b[38;5;28;01mif\u001b[39;00m word \u001b[38;5;129;01min\u001b[39;00m word_used:\n\u001b[1;32m     22\u001b[0m         word_used[word] \u001b[38;5;241m+\u001b[39m\u001b[38;5;241m=\u001b[39m \u001b[38;5;241m1\u001b[39m  \u001b[38;5;66;03m# if the word is already in word_used, word counter increases by 1\u001b[39;00m\n",
      "\u001b[0;31mNameError\u001b[0m: name 'word' is not defined"
     ]
    }
   ],
   "source": [
    "import pandas as pd\n",
    "url = \"https://raw.githubusercontent.com/rfordatascience/tidytuesday/master/data/2020/2020-08-11/avatar.csv\"\n",
    "avatar = pd.read_csv(url)\n",
    "\n",
    "words = (\"\\n\"+avatar.character.str.upper().replace(' ','.')+\": \"+avatar.full_text+\" \").sum().split(' ')\n",
    "\n",
    "from collections import defaultdict\n",
    "\n",
    "word_used = defaultdict(int) #  automatically provides default value (0) for a key (word) that doesn't exist\n",
    "# word_used is a dictionary that tracks how many times a word appears in a text: word_used[word]\n",
    "# (key: word, value: frequency)\n",
    "next_word = defaultdict(lambda: defaultdict(int))  # will return defaultdict(int) if word doesn't exist in next_word[word]\n",
    "# next_word is another dictionary that tracks how many times a word appears following another word in a text: word_next[word]\n",
    "# (key: word, value: frequency)\n",
    "\n",
    "for i,word in enumerate(word[:-1]):\n",
    "    # for loop index i (represents position of word in words list), it will iterate over all words in list 'words' except for the last word\n",
    "    # word represents the word value at index i\n",
    "    # the current word is index i, words[i+1] is the next word (giving induction...)\n",
    "    \n",
    "    if word in word_used:\n",
    "        word_used[word] += 1  # if the word is already in word_used, word counter increases by 1\n",
    "    else:\n",
    "        word_used[words] = 1  # if the word is not in word_used, index value becomes 1\n",
    "        next_word[words] = {}  # and the word key gets added to next_word's dictionary as an empty dictionary   \n",
    "        \n",
    "    if words[i+1] in next_word[word]:  # if the next word in list 'word' is in the next_word dictionary\n",
    "        next_word[word][words[i+1]] +=1  # if words[i+1] already exists in next_word, word counter increases by 1\n",
    "    else:\n",
    "        next_word[word][words[i+1]] = 1  # if words[i+1] is not in next_word, word gets added in next_word's dictionary with a 1 count     "
   ]
  },
  {
   "cell_type": "markdown",
   "id": "2ce95cfb",
   "metadata": {},
   "source": [
    "What is a nested dictionary? \n",
    "\n",
    "A nested dictionary is a dictionary in which another dictionary is its value.\n",
    "\n",
    "Eg using next_word[word][words[i+1]] encountering \"hello world\":\n",
    "\n",
    "1. When the code encounters \"hello world\", it will first store 'hello' in dictionary word_used (which contains words) and initialise 'hello' as an empty dictionary in next_word (which contains words[i+1])\n",
    "\n",
    "2. When the code encounters \"world\" following \"hello\", it will be added to the empty dictionary: next_word['hello']['world'] = 1\n",
    "\n",
    "The data structure for \"hello world hello friend\" would then look like this:\n",
    "\n",
    "word_used = {\n",
    "    'hello': 1,\n",
    "    'world': 1\n",
    "}\n",
    "\n",
    "next_word = {\n",
    "    'hello': {\n",
    "        'world': 1\n",
    "    }\n",
    "}\n",
    "\n",
    "where 'hello' is the key and the dictionary for how frequently the words in words[i+1] appear is the value"
   ]
  },
  {
   "cell_type": "markdown",
   "id": "6cba543d",
   "metadata": {},
   "source": [
    "ChatGPT Summary:\n",
    "\n",
    "\"Here's a summary of our session:\n",
    "\n",
    "1. **Markov Chain Chatbot Code Explanation:**\n",
    "   - We discussed a code snippet that builds a Markov model where words and their transitions to the next word are recorded.\n",
    "   - **`word_used`**: A dictionary that tracks how many times each word appears.\n",
    "   - **`next_word`**: A nested dictionary that tracks which words follow each other and how often.\n",
    "\n",
    "2. **Explanation of `lambda: defaultdict(int)`**:\n",
    "   - This is a way to create nested `defaultdict`s. The `lambda` function creates a new `defaultdict(int)` when a word is encountered for the first time, ensuring that any new word gets an empty dictionary automatically.\n",
    "\n",
    "3. **Nested Dictionary Concept**:\n",
    "   - We explored how `next_word[word][words[i+1]]` works: `next_word` holds dictionaries where the key is a word and the value is another dictionary that counts how often subsequent words follow it.\n",
    "\n",
    "4. **Example Sentences**:\n",
    "   - We worked through example sentences like `\"hello world hello friend\"`, showing how `next_word` gets populated, and how nested dictionaries allow us to track word transitions.\"\n",
    "\n",
    "Session link: https://chatgpt.com/share/66e6417a-bfd0-8012-92b1-462fb59d7b77"
   ]
  },
  {
   "cell_type": "markdown",
   "id": "7ab1f3e2",
   "metadata": {},
   "source": [
    "## 5.1: \n",
    "\n",
    "When I showed ChatGPT the first Markovian Chatbot extension, it gave me two responses and made me pick the one I preferred. I ended up picking the one that mentioned bigrams by name, since that one fulfilled the Chatbot comprehension criteria better. Even after showing the more complicated Markovian Chatbot extension, ChatGPT managed to identify that it both makes character-specific Markov chains (which was a fun discovery for me, since I did not realise until that moment that this extension was meant to create a Character.ai-esque chatbot) and that it tracks how many times each two-word pair appears for one specific character."
   ]
  },
  {
   "cell_type": "markdown",
   "id": "02203933",
   "metadata": {},
   "source": [
    "## 5.2:"
   ]
  },
  {
   "cell_type": "code",
   "execution_count": null,
   "id": "477c9646",
   "metadata": {
    "scrolled": true
   },
   "outputs": [],
   "source": [
    "word_used2 = defaultdict(int)  # now tracks two-word pairs instead of a single word in a text\n",
    "next_word2 = defaultdict(lambda: defaultdict(int))  # tracks the word following a two-word pair\n",
    "for i,word in enumerate(word[:-2]):  # for word in position i, iterates over all values word in list 'words' except for the last two words\n",
    "    word_used2[word+' '+word[i+1]] += 1  \n",
    "    #  first creates a string: word+' '+words[i+1] (the word following word at index i) \n",
    "    #  if word+' '+words[i+1] already exists in dictionary word_used2, two-word pair counter increases by 1\n",
    "    next_word2[word+' '+word[i+1]][word[i+2]] += 1 \n",
    "    #  if word+' '+words[i+1]][words[i+2] already exists in next_word2, counter increases by 1"
   ]
  },
  {
   "cell_type": "code",
   "execution_count": null,
   "id": "98893162",
   "metadata": {
    "scrolled": true
   },
   "outputs": [],
   "source": [
    "from collections import Counter, defaultdict \n",
    "\n",
    "# chatbot can now make separate Markov chains for each character in the dataset is speaking\n",
    "characters = Counter(\"\\n\"+ avatar.character.str.upper().str.replace(' ','.')+\":\")\n",
    "# this line: \n",
    "# converts all characters' names to uppercase strings\n",
    "# replaces space in names with dots\n",
    "# adds '\\n' and ':' to the beginning and ends of each name\n",
    "# and creates a counter object (specialised dictionary that counts occurrences of elements) that keeps track of how many times characters appear in the dataset\n",
    "\n",
    "nested_dict = lambda: defaultdict(nested_dict)  # nested_dict recursively creates nested dictionaries\n",
    "# basically: nested_dict returns a defaultdict object when accessing a key\n",
    "# when the key doesn't yet exist, it can call on itself to automatically make a new defaultdict\n",
    "# this process can repeat at any level: if you have dict1 inside dict2 and your code requires a dict inside dict1, dict3 is automatically created\n",
    "# which allows you to chain dictionaries inside dictionaries a lot more easily \n",
    "# creating a 'hierarchy' of information\n",
    "\n",
    "word_used2C = nested_dict()  # dictionary that tracks how many times each two-word pair appears for each specific character\n",
    "next_word2C = nested_dict()  # dictionary that tracks how many times one word follows each two-word pair for each specific character\n",
    "\n",
    "for i,word in enumerate(word[:-2]):  # for value word in index i, iterates over all words in list words except the last two\n",
    "    if word in characters:  # if a word in the text is the character's name\n",
    "        character = word  #  assigns character to that word (identifies that a character is speaking)\n",
    "        \n",
    "    if character not in word_used2C:  # if the current character does NOT have a dictionary assigned to it in word_used2C\n",
    "        word_used2C[character] = dict()  # the code makes a dictionary in word_used2C that character's name as the key\n",
    "    if word+' '+word[i+1] not in word_used2C[character]:  # if the two-word pair does not exist in word_used2C[character]\n",
    "        word_used2C[character][word+' '+word[i+1]] = 0  # it will initialise the two-word pair inside word_used2C[character] with the two-word pair as the key and 0 as its value\n",
    "    word_used2C[character][word+' '+word[i+1]] += 1  # if the pair already exists as a key in word_used2C[character][pair], it'll add 1 to its value \n",
    "    \n",
    "    if character not in next_word2C:  #  if the current character does NOT have a dictionary assigned to it in next_word2C\n",
    "        next_word2C[character] = dict()  # the code makes a dictionary with character as its key in next_word2C\n",
    "    if word+' '+word[i+1] not in next_word2C[character]:  # if the two-word pair does not exist in next_word2C[character]\n",
    "        next_word2C[character][word+' '+word[i+1]] = dict()  # the code will create a nested dictionary in next_word2C[character][pair] with the two-word pair as the key\n",
    "    if word[i+2] not in next_word2C[character][word+' '+word[i+1]]:  # if words[i+2] (the word following the two-word pair) isn't in next_word2C[character][pair]\n",
    "        next_word2C[character][word+' '+word[i+1]][words[i+2]] = 0  # it will initialise that word inside next_word2C[character][pair] with words[i+2] as the key and 0 as the value\n",
    "    next_word2C[character][word+' '+word[i+1]][word[i+2]] += 1  # if words[i+2] exists as a key inside next_word2C[character][pair], it'll add 1 to its value\n"
   ]
  },
  {
   "cell_type": "markdown",
   "id": "527900cf",
   "metadata": {},
   "source": [
    "ChatGPT Summary:\n",
    "\n",
    "\"Here's a summary of our session:\n",
    "\n",
    "### Initial Questions and Clarifications:\n",
    "1. **Understanding Markov Chain Code**:\n",
    "   - We discussed the original Markov chain code, focusing on how `word_used` and `next_word` dictionaries track word frequencies and transitions.\n",
    "   - Explained how `enumerate` works in the loop (`for i, word in enumerate(words[:-1])`), where `i` is the index, and `word` is the loop variable.\n",
    "   \n",
    "2. **Clarification on Lambda Functions**:\n",
    "   - We explored the meaning of `defaultdict(lambda: defaultdict(int))`, where the lambda function creates a default dictionary that can automatically create nested `defaultdicts` if a key doesn’t exist.\n",
    "\n",
    "### Extensions to the Markovian Chatbot:\n",
    "1. **Markovian Chatbot Extension #1**:\n",
    "   - This version uses **two-word sequences** (bigrams) to track word transitions, allowing for more context-aware sentence generation.\n",
    "   - We discussed how this change improves the chatbot by adding more complexity and realism to the predictions.\n",
    "\n",
    "2. **Markovian Chatbot Extension #2**:\n",
    "   - This extension introduces the concept of **characters** from a dataset (using a `Counter`), where each character has its own unique Markov chain for word transitions.\n",
    "   - We discussed how **nested dictionaries** are used to track two-word pairs and the next word, specific to each character.\n",
    "   - Explained the idea of **recursively creating nested dictionaries**, allowing dynamic creation of multiple levels of dictionaries to store complex hierarchical data.\n",
    "\n",
    "### Key Concepts Discussed:\n",
    "- **Counter Objects**: Used to count occurrences of characters in the dataset.\n",
    "- **Enumerate**: How it provides both the index and the value in a loop.\n",
    "- **Recursive Nested Dictionaries**: A powerful technique to automatically create nested dictionaries without manual initialization.\"\n",
    "\n",
    "Session link: https://chatgpt.com/share/66e6417a-bfd0-8012-92b1-462fb59d7b77"
   ]
  },
  {
   "cell_type": "markdown",
   "id": "d62ff661",
   "metadata": {},
   "source": [
    "## ChatGPT's answer to Question 5.3:\n",
    "\n",
    "\"This code is an extension of a Markovian chatbot model, building upon the idea of predicting the next word in a sequence based on historical word usage. It also includes an additional feature that tracks characters (in a text dataset like movie scripts or conversations) and the words they tend to use. Let’s break it down:\n",
    "\n",
    "### **Markovian Chatbot Overview**\n",
    "\n",
    "1. **`word_used` and `next_word` dictionaries**:\n",
    "   - **`word_used`**: Keeps track of how many times each word appears in the training dataset.\n",
    "   - **`next_word`**: Tracks how frequently each word is followed by another specific word. It stores word-pair sequences, forming the basis for generating text based on probabilities.\n",
    "\n",
    "### **Original Markov Chain Process**:\n",
    "- The loop iterates through `words[:-1]` (all words except the last one), looking at each word and the word that follows it (`words[i+1]`).\n",
    "  - If the current word has been seen before, it increments its count in `word_used`. If it's new, it initializes its count.\n",
    "  - Similarly, it checks if the next word (`words[i+1]`) has followed the current word before. If yes, it increments the count in `next_word`, otherwise, it initializes the pair.\n",
    "\n",
    "---\n",
    "\n",
    "### **Markovian Chatbot Extension #2**:\n",
    "This is an enhanced version of the above chatbot that includes the concept of \"characters\" in a conversation or script (like lines spoken by different people). Here’s the breakdown:\n",
    "\n",
    "1. **Characters with the `Counter` object**:\n",
    "   - **`characters`**: Uses the `Counter` to analyze the `character` column of the dataset `avatar`. This column is converted to uppercase, and spaces between names are replaced with periods.\n",
    "   - The dataset likely consists of dialogue, where each line is attributed to a specific character. The code ensures that all characters are standardized.\n",
    "\n",
    "2. **`nested_dict` Function**:\n",
    "   - **`nested_dict`**: A recursive dictionary structure that allows for the creation of dictionaries inside dictionaries automatically when needed (via `defaultdict`).\n",
    "\n",
    "3. **`word_used2C` and `next_word2C` dictionaries**:\n",
    "   - **`word_used2C`**: Tracks how many times a character uses specific two-word sequences (bi-grams).\n",
    "   - **`next_word2C`**: Stores the words that typically follow each bi-gram spoken by a character. This structure allows tracking chains of three words.\n",
    "\n",
    "### **Markov Chain Process for Characters**:\n",
    "- The loop iterates through `words[:-2]`, meaning it processes words in groups of three.\n",
    "- **Character detection**:\n",
    "   - If a word matches a character's name (detected using the `characters` counter), the `character` variable is set to that name.\n",
    "   \n",
    "- **Word and Next Word Sequences**:\n",
    "   - For each character, the program tracks how many times they use a specific bi-gram (two consecutive words). This information is stored in `word_used2C[character]`.\n",
    "   - It also tracks the next word that follows each bi-gram and stores this in `next_word2C[character]`.\n",
    "   - This setup allows the model to predict the third word in a sequence for each character, providing more contextual and specific responses based on the character's speaking habits.\n",
    "\n",
    "### **Summary**:\n",
    "- **Original model**: Tracks individual words and their immediate successors (unigram + next-word probability).\n",
    "- **Extended model**: Adds context by tracking sequences of two words (bi-grams) and predicts the third word based on character-specific patterns in the dialogue.\n",
    "\n",
    "By using these bi-grams and tri-grams, the chatbot can simulate more coherent and character-specific conversations, mimicking the style and flow of each character's dialogue.\"\n",
    "\n",
    "Session link: https://chatgpt.com/share/66e9efe2-4e38-8012-bf51-f501acf9330c"
   ]
  },
  {
   "cell_type": "markdown",
   "id": "9c8846ac",
   "metadata": {},
   "source": [
    "## 6.1:\n",
    "\n",
    "I feel like the Chatbot's first answers for both the Markovian chain and the Monte Hall simulation code were largely helpful, even though they skimmed over some explanations that I then had to prompt it on (eg. what my_door_choice = all_doors_options_list[0] means in the context of the Monte Hall code).\n",
    "\n",
    "## 6.2:\n",
    "\n",
    "Sometimes, ChatGPT will use words that I have legitimately never heard before to describe code because it assumes that I have a higher coding proficiency level than I do, which causes frustration. It might be a skill issue on my end, though—I learned what recursion means in the context of computer science through this, so I guess ChatGPT is helping me learn through frustrating me...?\n",
    "\n",
    "## 6.3:\n",
    "\n",
    "I think that the Chatbot has been very useful to help me understand code, as it provides a specific explanation for what each line of code does in the context of what the code is trying to accomplish (eg. explaining that a bigram in the Monte Hall problem is a string of 2 words), and provides me with an example (ie. \"Hello world hello friend\" for the 1st Markovian Chatbot extension). "
   ]
  },
  {
   "cell_type": "markdown",
   "id": "aa295495",
   "metadata": {},
   "source": [
    "## 7: \n",
    "\n",
    "I think that my perception of ChatGPT has trended positive ever since I started interacting with it throughout this course, as my previous interactions with it have been either mundane (summarising my notes into flashcards) or second-hand (seeing poorly-written AI poetry online, reading auto-generated Google captions, etc.) While I think that ChatGPT is a powerful coding tool and useful for teaching the necessary coding for STA130, when it comes to teaching concepts in data science and statistics as a whole, I find that ChatGPT flounders (in a similar way to how Wikipedia flounders) in that the explanations are not geared towards total beginners. I also remain wary of ChatGPT in particular because of how it doe not cite any of their sources of information, as opposed to NotebookLM, where the user feeds in the specific sources that they want the notebook to train on; while the information that ChatGPT has given me about the topics covered in this course thus far have been more accurate than I originally thought, I think that as I continue studying statistics, that accuracy level will start to decline."
   ]
  },
  {
   "cell_type": "markdown",
   "id": "5b1c2495",
   "metadata": {},
   "source": [
    "Question 8 Session link: https://chatgpt.com/share/66eadc1e-c478-8012-a748-e42cd64e508a\n",
    "\n",
    "## 8.4:\n",
    "\n",
    "I started my session by asking the ChatGPT how important adaptability, communication, coding and data analysis are in a professional setting, especially one in the data science industry, to which ChatGPT replied with each skill's relevance in the workplace and in what fields those skills are relevant in. Highlights include how ChatGPT said that effective communication can \"bridge the gap between technical experts and decision-makers\", and that not only do these skills create a well-rounded data scientist, they create a well-rounded portfolio for marketing, consulting, customer service, and even agriculture. I then asked ChatGPT whether or not someone could succeed in data science or statistics without having any previous coding or data analysis experience, to which ChatGPT essentially replied that it would be very hard, but not impossible; it gave me tips on taking online courses, keeping my programming learning focused to Python and R, and getting involved in hands-on projects to boost my portfolio. I then asked ChatGPT about whether codin and data analysis are relevant to pursuing a career in public health, and ChatGPT gave me a list of careers in public health that heavily employ data analysis skills, such as epidemiology and biostatistics, along with the skills required for me to find a position in any of those careers. It then gave me another list of key skills necessary to pursue a career in public health, which had significant overlap with the list that it gave me for key skills in statistics and data science.\n",
    "\n",
    "## 8.5:\n",
    "\n",
    "I think the most striking part of my conversation with ChatGPT was how it felt like the Chatbot kept repeating similar phrases about how \"developing strong analytical thinking skills\" is a \"highly valued skill across all industries\", which is both true and a little uninspiring (one would assume this to be the case already!). I also found myself repeatedly questioning ChatGPT's biases, especially when it emphasised the importance of learning how to use AI and machine learning tools, since the future success of ChatGPT as a for-profit software depends on that assumption... I feel like I would have gotten more specific answers both through better prompting (out of all the questions I asked it, I got the best answers from asking it whether or not I could succeed in data science without a solid coding foundation) and if I talked to a professional in the field, since they could contribute their lived experience in the conversation. In regards to what I will do to pursue this conversation further (with real people this time), I signed up for the Health Studies mentorship program, which, along with the Statistics mentorship, will hopefully help me navigate my future career path better than ChatGPT has thus far, haha."
   ]
  },
  {
   "cell_type": "markdown",
   "id": "1893b2d6",
   "metadata": {},
   "source": [
    "## 9: \n",
    "\n",
    "I have thoroughly interacted with ChatGPT at this point in the semester, and have read the wiki, though not in as much depth as I would like."
   ]
  }
 ],
 "metadata": {
  "kernelspec": {
   "display_name": "Python 3 (ipykernel)",
   "language": "python",
   "name": "python3"
  },
  "language_info": {
   "codemirror_mode": {
    "name": "ipython",
    "version": 3
   },
   "file_extension": ".py",
   "mimetype": "text/x-python",
   "name": "python",
   "nbconvert_exporter": "python",
   "pygments_lexer": "ipython3",
   "version": "3.11.6"
  }
 },
 "nbformat": 4,
 "nbformat_minor": 5
}
